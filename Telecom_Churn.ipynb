{
 "cells": [
  {
   "cell_type": "code",
   "execution_count": null,
   "id": "1409252d-124c-4616-950b-d6540bc2e193",
   "metadata": {},
   "outputs": [],
   "source": [
    "import numpy as np\n",
    "import pandas as pd \n",
    "import matplotlib.pyplot as plt \n",
    "import seaborn as sns\n",
    "import warnings\n",
    "warnings.filterwarnings(\"ignore\")\n",
    "from pylab import rcParams\n",
    "get_ipython().run_line_magic('matplotlib', 'inline')\n",
    "# Loading the CSV with pandas\n",
    "data = pd.read_csv('\\\\projects\\\\Churn.csv')\n",
    "data.head()"
   ]
  },
  {
   "cell_type": "code",
   "execution_count": null,
   "id": "1e5f3b1a-9800-45c0-91d3-614bb06bebee",
   "metadata": {},
   "outputs": [],
   "source": [
    "# Data to plot\n",
    "sizes = data['Churn'].value_counts(sort = True)\n",
    "colors = [\"yellow\",\"red\"] \n",
    "rcParams['figure.figsize'] = 5,5\n",
    "explode = (0.1, 0)  # explode 1st slice\n",
    "labels= 'no','yes'\n",
    "# Plot\n",
    "plt.pie(sizes, explode=explode, labels=labels, colors=colors,autopct='%1.1f%%', shadow=True, startangle=270,)\n",
    "plt.title('Percentage of Churn in Dataset')\n",
    "plt.show()"
   ]
  },
  {
   "cell_type": "code",
   "execution_count": null,
   "id": "f6cee327-f9bd-4226-a3b3-ca2a1d94a3ee",
   "metadata": {},
   "outputs": [],
   "source": [
    "data.drop(['customerID'], axis=1, inplace=True)\n",
    "data['MonthlyCharges'] = pd.to_numeric(data['MonthlyCharges'])\n",
    "data['TotalCharges'] = pd.to_numeric(data['TotalCharges'])\n",
    "data.head()"
   ]
  },
  {
   "cell_type": "code",
   "execution_count": null,
   "id": "2cb85fa6-aab3-4006-9678-e89d574bc9a8",
   "metadata": {},
   "outputs": [],
   "source": [
    "## Examine correlations\n",
    "data['tenuremonth'] = (data['tenure'] * data['MonthlyCharges']).astype(float)\n",
    "data.corr()"
   ]
  },
  {
   "cell_type": "code",
   "execution_count": null,
   "id": "5b4cbc3b-cbb0-429f-bbc8-caa14bb0267a",
   "metadata": {},
   "outputs": [],
   "source": [
    "# 6 features, convert 'no internet service' to 'no'\n",
    "no_int_service_vars = ['OnlineSecurity', 'OnlineBackup', \n",
    "                       'DeviceProtection','TechSupport', \n",
    "                       'StreamingTV', 'StreamingMovies']\n",
    "                       \n",
    "for var in no_int_service_vars:\n",
    "    data[var] = data[var].map({'No internet service': 'No',\n",
    "                           'Yes': 'Yes',\n",
    "                           'No': 'No'}).astype('category')\n",
    "    \n",
    "for var in no_int_service_vars:\n",
    "    print(data[var].value_counts())"
   ]
  },
  {
   "cell_type": "code",
   "execution_count": null,
   "id": "79529eb0-fd25-4b16-9084-08b61f732791",
   "metadata": {},
   "outputs": [],
   "source": [
    "## Binarize binary variables\n",
    "from sklearn.preprocessing import StandardScaler, LabelEncoder\n",
    "df_enc = data.copy()\n",
    "binary_vars = ['gender', 'SeniorCitizen', 'Partner', 'Dependents',\n",
    "               'PhoneService', 'MultipleLines', 'OnlineSecurity', \n",
    "               'OnlineBackup','DeviceProtection', 'TechSupport', \n",
    "               'StreamingTV', 'StreamingMovies', 'PaperlessBilling', 'Churn']\n",
    "enc = LabelEncoder()\n",
    "df_enc[binary_vars] = df_enc[binary_vars].apply(enc.fit_transform)\n",
    "\n",
    "## One-hot encode multi-category cat. variables\n",
    "multicat_vars = ['InternetService', 'Contract', 'PaymentMethod']\n",
    "df_enc = pd.get_dummies(df_enc, columns = multicat_vars)\n",
    "df_enc.iloc[:,16:26] = df_enc.iloc[:,16:26].astype(int)\n",
    "print(df_enc.info())"
   ]
  },
  {
   "cell_type": "code",
   "execution_count": null,
   "id": "6c230d7b-c08f-43b1-b02c-2a722cb8ab07",
   "metadata": {},
   "outputs": [],
   "source": [
    "Y = df_enc[\"Churn\"].values\n",
    "X = df_enc.drop(labels = [\"Churn\"],axis = 1)\n",
    "# Create Train & Test Data\n",
    "from sklearn.model_selection import train_test_split\n",
    "X_train, X_test, y_train, y_test = train_test_split(X, Y, test_size=0.43, random_state=101)"
   ]
  },
  {
   "cell_type": "code",
   "execution_count": null,
   "id": "8f8bd728-25a5-44f4-8627-7cc6e0114a9c",
   "metadata": {},
   "outputs": [],
   "source": [
    "from sklearn.linear_model import LogisticRegression\n",
    "model = LogisticRegression()\n",
    "result = model.fit(X_train, y_train)"
   ]
  },
  {
   "cell_type": "code",
   "execution_count": null,
   "id": "156e5d1c-ab6e-42d9-8a59-5aab3760dd71",
   "metadata": {},
   "outputs": [],
   "source": [
    "from sklearn import metrics\n",
    "prediction_test = model.predict(X_test)\n",
    "print (metrics.accuracy_score(y_test, prediction_test))"
   ]
  }
 ],
 "metadata": {
  "kernelspec": {
   "display_name": "Python 3 (ipykernel)",
   "language": "python",
   "name": "python3"
  },
  "language_info": {
   "codemirror_mode": {
    "name": "ipython",
    "version": 3
   },
   "file_extension": ".py",
   "mimetype": "text/x-python",
   "name": "python",
   "nbconvert_exporter": "python",
   "pygments_lexer": "ipython3",
   "version": "3.11.5"
  }
 },
 "nbformat": 4,
 "nbformat_minor": 5
}
